{
 "cells": [
  {
   "cell_type": "code",
   "execution_count": 154,
   "metadata": {},
   "outputs": [],
   "source": [
    "import base64\n",
    "import hashlib\n",
    "import html\n",
    "import json\n",
    "import os\n",
    "import re\n",
    "import urllib.parse\n",
    "import requests\n",
    "\n",
    "from bs4 import BeautifulSoup\n",
    "from urllib.parse import urlparse, parse_qs\n"
   ]
  },
  {
   "cell_type": "code",
   "execution_count": 155,
   "metadata": {},
   "outputs": [],
   "source": [
    "client_id = \"ch\"\n",
    "username = \"123\"\n",
    "password = \"123\"\n",
    "redirect_uri = \"https://oauth.pstmn.io/v1/callback\"\n",
    "state=\"123\"\n"
   ]
  },
  {
   "cell_type": "code",
   "execution_count": 156,
   "metadata": {},
   "outputs": [
    {
     "data": {
      "text/plain": [
       "('IfonahjMLJsfoR8PmsfJsKi1VlvQ2rR3iWBAGHpLz0RTPyucmQ', 50)"
      ]
     },
     "execution_count": 156,
     "metadata": {},
     "output_type": "execute_result"
    }
   ],
   "source": [
    "code_verifier = base64.urlsafe_b64encode(os.urandom(40)).decode('utf-8')\n",
    "code_verifier = re.sub('[^a-zA-Z0-9]+', '', code_verifier)\n",
    "code_verifier, len(code_verifier)"
   ]
  },
  {
   "cell_type": "code",
   "execution_count": 157,
   "metadata": {},
   "outputs": [
    {
     "data": {
      "text/plain": [
       "('BSa2p9V7je5FUGhKO6dah33g0-VbEgjqUkgyousZUQY', 43)"
      ]
     },
     "execution_count": 157,
     "metadata": {},
     "output_type": "execute_result"
    }
   ],
   "source": [
    "code_challenge = hashlib.sha256(code_verifier.encode('utf-8')).digest()\n",
    "code_challenge = base64.urlsafe_b64encode(code_challenge).decode('utf-8')\n",
    "code_challenge = code_challenge.replace('=', '')\n",
    "code_challenge, len(code_challenge)"
   ]
  },
  {
   "cell_type": "code",
   "execution_count": 158,
   "metadata": {},
   "outputs": [
    {
     "name": "stdout",
     "output_type": "stream",
     "text": [
      "session_code: G2rRXDCOwOctgBG4NmHTXZoE7i3nbzmw7xNnsKeU_wM\n",
      "execution: 120d8b9b-2384-4c29-86d9-4171413f2b1c\n",
      "client_id: ch\n",
      "tab_id: 3PaDmS0ei1M\n",
      "client_data: eyJydSI6Imh0dHBzOi8vb2F1dGgucHN0bW4uaW8vdjEvY2FsbGJhY2siLCJydCI6ImNvZGUiLCJybSI6ImZyYWdtZW50Iiwic3QiOiIxMjMifQ\n"
     ]
    }
   ],
   "source": [
    "import requests\n",
    "from bs4 import BeautifulSoup\n",
    "from urllib.parse import urlparse, parse_qs\n",
    "\n",
    "\n",
    "# Simulate the request to get the HTML response\n",
    "url = \"http://localhost:8080/realms/htc/protocol/openid-connect/auth\"  # Replace with your actual URL\n",
    "params={\n",
    "        \"response_type\": \"code\",\n",
    "        \"client_id\": client_id,\n",
    "        \"state\": state,\n",
    "        \"scope\": \"openid\",\n",
    "        \"redirect_uri\": redirect_uri,\n",
    "        \"code_challenge\": code_challenge,\n",
    "        \"code_challenge_method\": \"S256\",\n",
    "        \"response_mode\" : \"fragment\",\n",
    "    }\n",
    "\n",
    "response = requests.get(url, params=params)\n",
    "\n",
    "# Parse the HTML content\n",
    "soup = BeautifulSoup(response.text, 'html.parser')\n",
    "\n",
    "# Extract the form's action attribute\n",
    "form_action_url = soup.find('form', {'id': 'kc-form-login'})['action']\n",
    "\n",
    "# Parse the URL to extract query parameters\n",
    "parsed_url = urlparse(form_action_url)\n",
    "query_params = parse_qs(parsed_url.query)\n",
    "\n",
    "# Extract specific values\n",
    "session_code = query_params.get('session_code', [None])[0]\n",
    "execution = query_params.get('execution', [None])[0]\n",
    "client_id = query_params.get('client_id', [None])[0]\n",
    "tab_id = query_params.get('tab_id', [None])[0]\n",
    "client_data = query_params.get('client_data', [None])[0]\n",
    "\n",
    "# Print extracted values\n",
    "print(\"session_code:\", session_code)\n",
    "print(\"execution:\", execution)\n",
    "print(\"client_id:\", client_id)\n",
    "print(\"tab_id:\", tab_id)\n",
    "print(\"client_data:\", client_data)\n"
   ]
  },
  {
   "cell_type": "code",
   "execution_count": 159,
   "metadata": {},
   "outputs": [
    {
     "data": {
      "text/plain": [
       "'http://localhost:8080/realms/htc/login-actions/authenticate?session_code=G2rRXDCOwOctgBG4NmHTXZoE7i3nbzmw7xNnsKeU_wM&execution=120d8b9b-2384-4c29-86d9-4171413f2b1c&client_id=ch&tab_id=3PaDmS0ei1M&client_data=eyJydSI6Imh0dHBzOi8vb2F1dGgucHN0bW4uaW8vdjEvY2FsbGJhY2siLCJydCI6ImNvZGUiLCJybSI6ImZyYWdtZW50Iiwic3QiOiIxMjMifQ'"
      ]
     },
     "execution_count": 159,
     "metadata": {},
     "output_type": "execute_result"
    }
   ],
   "source": [
    "form_action_url"
   ]
  },
  {
   "cell_type": "code",
   "execution_count": 160,
   "metadata": {},
   "outputs": [
    {
     "name": "stdout",
     "output_type": "stream",
     "text": [
      "session_code: G2rRXDCOwOctgBG4NmHTXZoE7i3nbzmw7xNnsKeU_wM\n",
      "execution: 120d8b9b-2384-4c29-86d9-4171413f2b1c\n",
      "client_id: ch\n",
      "tab_id: 3PaDmS0ei1M\n",
      "client_data: eyJydSI6Imh0dHBzOi8vb2F1dGgucHN0bW4uaW8vdjEvY2FsbGJhY2siLCJydCI6ImNvZGUiLCJybSI6ImZyYWdtZW50Iiwic3QiOiIxMjMifQ\n",
      "\n",
      "Decoded parameters as dictionary:\n",
      "{'session_code': 'G2rRXDCOwOctgBG4NmHTXZoE7i3nbzmw7xNnsKeU_wM', 'execution': '120d8b9b-2384-4c29-86d9-4171413f2b1c', 'client_id': 'ch', 'tab_id': '3PaDmS0ei1M', 'client_data': 'eyJydSI6Imh0dHBzOi8vb2F1dGgucHN0bW4uaW8vdjEvY2FsbGJhY2siLCJydCI6ImNvZGUiLCJybSI6ImZyYWdtZW50Iiwic3QiOiIxMjMifQ'}\n"
     ]
    }
   ],
   "source": [
    "# Dont need right now\n",
    "\n",
    "\n",
    "page = response.text\n",
    "form_action = html.unescape(re.search(r'<form\\s+.*?\\s+action=\"(.*?)\"', page, re.DOTALL).group(1))\n",
    "form_action\n",
    "#\"http://localhost:8080/realms/htc/protocol/openid-connect/auth?response_type=code&client_id=ch&state=123&scope=openid%20profile%20channel_id_scope&redirect_uri=https%3A%2F%2Foauth.pstmn.io%2Fv1%2Fcallback&code_challenge=EBmvYVRAlV1TtWWYm7d_nsfTC6QhTxVTvCsyhkkPJeI&code_challenge_method=S256&X-Custom-Header=expected-value&mob=123&mob1=123\"\n",
    "\n",
    "# Parse the URL\n",
    "parsed_url = urllib.parse.urlparse(form_action)\n",
    "\n",
    "# Parse the query parameters\n",
    "params = urllib.parse.parse_qs(parsed_url.query)\n",
    "\n",
    "# Decode and print each parameter\n",
    "for key, value in params.items():\n",
    "    # value is a list because there can be multiple values for a key\n",
    "    print(f\"{key}: {value[0]}\")\n",
    "\n",
    "# If you want a dictionary with single values:\n",
    "decoded_params = {key: value[0] for key, value in params.items()}\n",
    "\n",
    "print(\"\\nDecoded parameters as dictionary:\")\n",
    "print(decoded_params)\n"
   ]
  },
  {
   "cell_type": "code",
   "execution_count": 161,
   "metadata": {},
   "outputs": [
    {
     "data": {
      "text/plain": [
       "'http://localhost:8080/realms/htc/login-actions/authenticate?session_code=G2rRXDCOwOctgBG4NmHTXZoE7i3nbzmw7xNnsKeU_wM&execution=120d8b9b-2384-4c29-86d9-4171413f2b1c&client_id=ch&tab_id=3PaDmS0ei1M&client_data=eyJydSI6Imh0dHBzOi8vb2F1dGgucHN0bW4uaW8vdjEvY2FsbGJhY2siLCJydCI6ImNvZGUiLCJybSI6ImZyYWdtZW50Iiwic3QiOiIxMjMifQ'"
      ]
     },
     "execution_count": 161,
     "metadata": {},
     "output_type": "execute_result"
    }
   ],
   "source": [
    "form_action"
   ]
  },
  {
   "cell_type": "code",
   "execution_count": 162,
   "metadata": {},
   "outputs": [
    {
     "data": {
      "text/plain": [
       "'AUTH_SESSION_ID=47794425-a72d-4556-adf2-5786459aafb9; AUTH_SESSION_ID_LEGACY=47794425-a72d-4556-adf2-5786459aafb9; KC_RESTART=eyJhbGciOiJkaXIiLCJlbmMiOiJBMTI4Q0JDLUhTMjU2In0..n8oOSmHaF1siLGufrzg2Qg.TXeFcEUcArm2dD5AuCfLVF6nmNm3bcqj5_A-tyg5W-O8fHjGkNOfzDSrsc1tQN3ePUxj7eI1B_wkLy4b93yBLoAOR5BOkl_laJuic3NvnwyhlVlmWTR1BCVA2KnBCyIfZj4ciPMCh6RRdQBfYW7fcygIxKdte1vnVpC2LhcMKp_C9oPNpLbZKeNoNe3zBYkV3teNVc8Egm8DGdT0a6lTA9Tf8eWsBu7SOKWiVjcHbOJMS7kkL_ZiGNCO08cUhhbTm6XXLGvh09sGyNHfUyUledpr6jICc4bVWrd7gmyeUDzkP1400FCuEXy4qSEUbgBfAvBjfB_L9OhseI8DH0UrLAC9O8SP1OnadIeLebHVxt9Kc28u7IyDHn3NR2Rigputoyc0OSeGXq1D8t23lQAWRbHaEztaggogejDN5sBE-QE4A_29ACLtNKRXePsfiC-sUfonoyqUm4hPuxUTrJ-QPLa6s6l0WeW5UZcEH94UOY5WUMENhoTHOVJOpe-4AXsrFnAkWaahucC6yIRxDiVIZf0zxqIWA5WeXRMzdyiSbH7-lAijZg11saLe2ruHFmKbomU88gRn8s79EC2-kzZA6Htyp7LtSdQfv-zQJoPf4xRG7VQa6u-e8bIP6Kp4MPa6D6M0hWwsEmHnQvePEAG1eT32l7wbQpxoAcvBIzlpWdcmv1q8KMOaCCbnfCRwJ4xEVHrJneXuixhqAEWGuB5lxIte_nYa0Lenj6S8IJp69RkEWF9QclPeI-Dc84QQu0A0-RUT5JLgRA5kYgPiCp6tQjJliuhjWZiP8y8DkXBRCMvhCDXCJtH58IkgU6Ihel34wxTX8-9nKTco4DipbkbhvfcMjR5c6YRmvzt_rEtG1-iS0H4eCvX-UtRlIKRUQ8dUTNKvP2LlUOjEHJ96CV7AptA58Dp7yCVB_CB95r4LlJI.xz2GlVLxsO84AyplZ_fmGQ'"
      ]
     },
     "execution_count": 162,
     "metadata": {},
     "output_type": "execute_result"
    }
   ],
   "source": [
    "cookie = response.headers['Set-Cookie']\n",
    "cookie = '; '.join(c.split(';')[0] for c in cookie.split(', '))\n",
    "cookie"
   ]
  },
  {
   "cell_type": "code",
   "execution_count": 163,
   "metadata": {},
   "outputs": [
    {
     "name": "stdout",
     "output_type": "stream",
     "text": [
      "Status Code: 400\n",
      "Response Text: <!DOCTYPE html>\n",
      "<html class=\"login-pf\">\n",
      "\n",
      "<head>\n",
      "    <meta charset=\"utf-8\">\n",
      "    <meta http-equiv=\"Content-Type\" content=\"text/html; charset=UTF-8\" />\n",
      "    <meta name=\"robots\" content=\"noindex, nofollow\">\n",
      "\n",
      "            <meta name=\"viewport\" content=\"width=device-width,initial-scale=1\"/>\n",
      "    <title>Sign in to fetchusers</title>\n",
      "    <link rel=\"icon\" href=\"/resources/ivzwa/login/keycloak/img/favicon.ico\" />\n",
      "            <link href=\"/resources/ivzwa/common/keycloak/node_modules/@patternfly/patternfly/patternfly.min.css\" rel=\"stylesheet\" />\n",
      "            <link href=\"/resources/ivzwa/common/keycloak/node_modules/patternfly/dist/css/patternfly.min.css\" rel=\"stylesheet\" />\n",
      "            <link href=\"/resources/ivzwa/common/keycloak/node_modules/patternfly/dist/css/patternfly-additions.min.css\" rel=\"stylesheet\" />\n",
      "            <link href=\"/resources/ivzwa/common/keycloak/lib/pficon/pficon.css\" rel=\"stylesheet\" />\n",
      "            <link href=\"/resources/ivzwa/login/keycloak/css/login.css\" rel=\"stylesheet\" />\n",
      "    <script type=\"importmap\">\n",
      "        {\n",
      "            \"imports\": {\n",
      "                \"rfc4648\": \"/resources/ivzwa/common/keycloak/node_modules/rfc4648/lib/rfc4648.js\"\n",
      "            }\n",
      "        }\n",
      "    </script>\n",
      "    <script src=\"/resources/ivzwa/login/keycloak/js/menu-button-links.js\" type=\"module\"></script>\n",
      "    <script type=\"module\">\n",
      "        import { checkCookiesAndSetTimer } from \"/resources/ivzwa/login/keycloak/js/authChecker.js\";\n",
      "\n",
      "        checkCookiesAndSetTimer(\n",
      "          \"/realms/fetchusers/login-actions/restart?skip_logout=true\"\n",
      "        );\n",
      "    </script>\n",
      "</head>\n",
      "\n",
      "<body class=\"\">\n",
      "<div class=\"login-pf-page\">\n",
      "    <div id=\"kc-header\" class=\"login-pf-page-header\">\n",
      "        <div id=\"kc-header-wrapper\"\n",
      "             class=\"\">fetchusers</div>\n",
      "    </div>\n",
      "    <div class=\"card-pf\">\n",
      "        <header class=\"login-pf-header\">\n",
      "                <h1 id=\"kc-page-title\">        We are sorry...\n",
      "</h1>\n",
      "      </header>\n",
      "      <div id=\"kc-content\">\n",
      "        <div id=\"kc-content-wrapper\">\n",
      "\n",
      "\n",
      "        <div id=\"kc-error-message\">\n",
      "            <p class=\"instruction\">An error occurred, please login again through your application.</p>\n",
      "        </div>\n",
      "\n",
      "\n",
      "\n",
      "        </div>\n",
      "      </div>\n",
      "\n",
      "    </div>\n",
      "  </div>\n",
      "</body>\n",
      "</html>\n",
      "\n",
      "Response Headers: {'Cache-Control': 'no-store, must-revalidate, max-age=0', 'content-length': '2189', 'Content-Language': 'en', 'Content-Security-Policy': \"frame-src 'self'; frame-ancestors 'self'; object-src 'none';\", 'Content-Type': 'text/html;charset=utf-8', 'Referrer-Policy': 'no-referrer', 'Strict-Transport-Security': 'max-age=31536000; includeSubDomains', 'X-Content-Type-Options': 'nosniff', 'X-Frame-Options': 'SAMEORIGIN', 'X-Robots-Tag': 'none', 'X-XSS-Protection': '1; mode=block'}\n"
     ]
    }
   ],
   "source": [
    "import requests\n",
    "\n",
    "# Extracted values from previous steps\n",
    "session_code = decoded_params.get('session_code')\n",
    "execution = decoded_params.get('execution')\n",
    "client_id = decoded_params.get('client_id')\n",
    "tab_id = decoded_params.get('tab_id')\n",
    "client_data = decoded_params.get('client_data')\n",
    "\n",
    "# URL to send the POST request\n",
    "url = 'http://localhost:8080/realms/fetchusers/login-actions/authenticate'\n",
    "\n",
    "# Headers for the request\n",
    "headers = {\n",
    "    \"Upgrade-Insecure-Requests\": \"1\",\n",
    "    \"Origin\": \"null\",\n",
    "    \"Content-Type\": \"application/x-www-form-urlencoded\",\n",
    "    \"User-Agent\": \"Mozilla/5.0 (Windows NT 10.0; Win64; x64) AppleWebKit/537.36 (KHTML, like Gecko) Postman/11.10.0 Electron/28.3.1 Safari/537.36\",\n",
    "    \"Accept\": \"text/html,application/xhtml+xml,application/xml;q=0.9,image/avif,image/webp,image/apng,*/*;q=0.8,application/signed-exchange;v=b3;q=0.7\",\n",
    "    \"Sec-Fetch-Site\": \"same-origin\",\n",
    "    \"Sec-Fetch-Mode\": \"navigate\",\n",
    "    \"Sec-Fetch-User\": \"?1\",\n",
    "    \"Sec-Fetch-Dest\": \"document\",\n",
    "    \"Accept-Encoding\": \"gzip, deflate, br\",\n",
    "    \"Accept-Language\": \"en-US\",\n",
    "    \"Cookie\": cookie  # Make sure this is valid\n",
    "}\n",
    "\n",
    "# Data to send in the POST request\n",
    "data = {\n",
    "    'session_code': session_code,\n",
    "    'execution': execution,\n",
    "    'client_id': client_id,\n",
    "    'tab_id': tab_id,\n",
    "    'client_data': client_data,\n",
    "    'username': '123',  # Replace with actual username if needed\n",
    "    'password': '123'   # Replace with actual password if needed\n",
    "}\n",
    "\n",
    "# Send the POST request\n",
    "response = requests.post(url, headers=headers, data=data)\n",
    "\n",
    "# Print the response content and status code\n",
    "print(f\"Status Code: {response.status_code}\")\n",
    "print(f\"Response Text: {response.text}\")\n",
    "print(f\"Response Headers: {response.headers}\")\n"
   ]
  },
  {
   "cell_type": "code",
   "execution_count": 164,
   "metadata": {},
   "outputs": [
    {
     "name": "stdout",
     "output_type": "stream",
     "text": [
      "Status Code: 400\n",
      "Response Body: <!DOCTYPE html>\n",
      "<html class=\"login-pf\">\n",
      "\n",
      "<head>\n",
      "    <meta charset=\"utf-8\">\n",
      "    <meta http-equiv=\"Content-Type\" content=\"text/html; charset=UTF-8\" />\n",
      "    <meta name=\"robots\" content=\"noindex, nofollow\">\n",
      "\n",
      "            <meta name=\"viewport\" content=\"width=device-width,initial-scale=1\"/>\n",
      "    <title>Sign in to htc</title>\n",
      "    <link rel=\"icon\" href=\"/resources/ivzwa/login/keycloak/img/favicon.ico\" />\n",
      "            <link href=\"/resources/ivzwa/common/keycloak/node_modules/@patternfly/patternfly/patternfly.min.css\" rel=\"stylesheet\" />\n",
      "            <link href=\"/resources/ivzwa/common/keycloak/node_modules/patternfly/dist/css/patternfly.min.css\" rel=\"stylesheet\" />\n",
      "            <link href=\"/resources/ivzwa/common/keycloak/node_modules/patternfly/dist/css/patternfly-additions.min.css\" rel=\"stylesheet\" />\n",
      "            <link href=\"/resources/ivzwa/common/keycloak/lib/pficon/pficon.css\" rel=\"stylesheet\" />\n",
      "            <link href=\"/resources/ivzwa/login/keycloak/css/login.css\" rel=\"stylesheet\" />\n",
      "    <script type=\"importmap\">\n",
      "        {\n",
      "            \"imports\": {\n",
      "                \"rfc4648\": \"/resources/ivzwa/common/keycloak/node_modules/rfc4648/lib/rfc4648.js\"\n",
      "            }\n",
      "        }\n",
      "    </script>\n",
      "    <script src=\"/resources/ivzwa/login/keycloak/js/menu-button-links.js\" type=\"module\"></script>\n",
      "    <script type=\"module\">\n",
      "        import { checkCookiesAndSetTimer } from \"/resources/ivzwa/login/keycloak/js/authChecker.js\";\n",
      "\n",
      "        checkCookiesAndSetTimer(\n",
      "          \"/realms/htc/login-actions/restart?client_id=ch&skip_logout=true\"\n",
      "        );\n",
      "    </script>\n",
      "</head>\n",
      "\n",
      "<body class=\"\">\n",
      "<div class=\"login-pf-page\">\n",
      "    <div id=\"kc-header\" class=\"login-pf-page-header\">\n",
      "        <div id=\"kc-header-wrapper\"\n",
      "             class=\"\">htc</div>\n",
      "    </div>\n",
      "    <div class=\"card-pf\">\n",
      "        <header class=\"login-pf-header\">\n",
      "                <h1 id=\"kc-page-title\">        We are sorry...\n",
      "</h1>\n",
      "      </header>\n",
      "      <div id=\"kc-content\">\n",
      "        <div id=\"kc-content-wrapper\">\n",
      "\n",
      "\n",
      "        <div id=\"kc-error-message\">\n",
      "            <p class=\"instruction\">Cookie not found. Please make sure cookies are enabled in your browser.</p>\n",
      "        </div>\n",
      "\n",
      "\n",
      "\n",
      "        </div>\n",
      "      </div>\n",
      "\n",
      "    </div>\n",
      "  </div>\n",
      "</body>\n",
      "</html>\n",
      "\n"
     ]
    }
   ],
   "source": [
    "import requests\n",
    "\n",
    "url = \"http://localhost:8080/realms/htc/login-actions/authenticate\"\n",
    "params = {\n",
    "    \"session_code\": decoded_params.get('session_code'),\n",
    "    \"execution\": decoded_params.get('execution'),\n",
    "    \"client_id\": decoded_params.get('client_id'),\n",
    "    \"tab_id\": decoded_params.get('tab_id'),\n",
    "    \"client_data\": decoded_params.get('client_data'),\n",
    "    \"username\" :\"123\",\n",
    "    \"password\" :\"123\",\n",
    "}\n",
    "\n",
    "response = requests.get(url, params=params)\n",
    "\n",
    "print(\"Status Code:\", response.status_code)\n",
    "print(\"Response Body:\", response.text)\n"
   ]
  },
  {
   "cell_type": "code",
   "execution_count": 165,
   "metadata": {},
   "outputs": [
    {
     "name": "stdout",
     "output_type": "stream",
     "text": [
      "Status Code: 400\n",
      "Response Body: {\"error\":\"Cookie not found. Please make sure cookies are enabled in your browser.\"}\n"
     ]
    }
   ],
   "source": [
    "import requests\n",
    "\n",
    "# Create a session object to handle cookies\n",
    "session = requests.Session()\n",
    "\n",
    "# Define the URL and parameters\n",
    "url = \"http://localhost:8080/realms/htc/login-actions/authenticate\"\n",
    "params = {\n",
    "    \"session_code\": \"QhwuvC0SqvgtIvBtghD62_RBGQ93XS1GysPPUtM4BZQ\",\n",
    "    \"execution\": \"120d8b9b-2384-4c29-86d9-4171413f2b1c\",\n",
    "    \"client_id\": \"ch\",\n",
    "    \"tab_id\": \"1ayLWkwq4Pg\",\n",
    "    \"client_data\": \"eyJydSI6Imh0dHBzOi8vb2F1dGgucHN0bW4uaW8vdjEvY2FsbGJhY2siLCJydCI6ImNvZGUiLCJzdCI6IjEyMyJ9\"\n",
    "}\n",
    "\n",
    "# Define body data for POST request\n",
    "data = {\n",
    "    \"username\": \"123\",\n",
    "    \"password\": \"123\"\n",
    "}\n",
    "\n",
    "# Define headers, if needed (e.g., to mimic a browser)\n",
    "headers = {\n",
    "    'User-Agent': 'Mozilla/5.0 (Windows NT 10.0; Win64; x64) AppleWebKit/537.36 (KHTML, like Gecko) Chrome/91.0.4472.124 Safari/537.36',\n",
    "    'Accept': 'application/json',\n",
    "    'cookie' : cookie,\n",
    "    \"session_code\": decoded_params.get('session_code'),\n",
    "    \"execution\": decoded_params.get('execution'),\n",
    "    \"client_id\": decoded_params.get('client_id'),\n",
    "    \"tab_id\": decoded_params.get('tab_id'),\n",
    "    \"client_data\": decoded_params.get('client_data'),\n",
    "}\n",
    "\n",
    "data = {\n",
    "    \"username\" :\"123\",\n",
    "    \"password\" :\"123\",\n",
    "}\n",
    "\n",
    "# Send the POST request with the session object\n",
    "response = session.post(url, params=params, data=data, headers=headers)\n",
    "\n",
    "# Print the status code and response body\n",
    "print(\"Status Code:\", response.status_code)\n",
    "print(\"Response Body:\", response.text)\n"
   ]
  },
  {
   "cell_type": "code",
   "execution_count": null,
   "metadata": {},
   "outputs": [],
   "source": [
    "import requests\n",
    "\n",
    "# Create a session object to handle cookies\n",
    "session = requests.Session()\n",
    "\n",
    "# Define the URL and parameters\n",
    "url = \"http://localhost:8080/realms/htc/login-actions/authenticate\"\n",
    "params = {\n",
    "    \"session_code\": \"QhwuvC0SqvgtIvBtghD62_RBGQ93XS1GysPPUtM4BZQ\",\n",
    "    \"execution\": \"120d8b9b-2384-4c29-86d9-4171413f2b1c\",\n",
    "    \"client_id\": \"ch\",\n",
    "    \"tab_id\": \"1ayLWkwq4Pg\",\n",
    "    \"client_data\": \"eyJydSI6Imh0dHBzOi8vb2F1dGgucHN0bW4uaW8vdjEvY2FsbGJhY2siLCJydCI6ImNvZGUiLCJzdCI6IjEyMyJ9\"\n",
    "}\n",
    "\n",
    "# Define body data for POST request\n",
    "data = {\n",
    "    \"username\": \"123\",\n",
    "    \"password\": \"123\"\n",
    "}\n",
    "\n",
    "# Define headers, if needed (e.g., to mimic a browser)\n",
    "headers = {\n",
    "    'User-Agent': 'Mozilla/5.0 (Windows NT 10.0; Win64; x64) AppleWebKit/537.36 (KHTML, like Gecko) Chrome/91.0.4472.124 Safari/537.36',\n",
    "    'Accept': 'application/json',\n",
    "    'cookie' : cookie,\n",
    "    \"session_code\": decoded_params.get('session_code'),\n",
    "    \"execution\": decoded_params.get('execution'),\n",
    "    \"client_id\": decoded_params.get('client_id'),\n",
    "    \"tab_id\": decoded_params.get('tab_id'),\n",
    "    \"client_data\": decoded_params.get('client_data'),\n",
    "}\n",
    "\n",
    "data = {\n",
    "    \"username\" :\"123\",\n",
    "    \"password\" :\"123\",\n",
    "}\n",
    "\n",
    "# Send the POST request with the session object\n",
    "response = session.post(url, params=params, data=data, headers=headers)\n",
    "\n",
    "# Print the status code and response body\n",
    "print(\"Status Code:\", response.status_code)\n",
    "print(\"Response Body:\", response.text)\n"
   ]
  },
  {
   "cell_type": "code",
   "execution_count": null,
   "metadata": {},
   "outputs": [],
   "source": [
    "import requests\n",
    "from bs4 import BeautifulSoup\n",
    "from urllib.parse import urlparse, parse_qs\n",
    "\n",
    "# Create a session object to handle cookies\n",
    "session = requests.Session()\n",
    "\n",
    "# Simulate the request to get the HTML response\n",
    "url = \"http://localhost:8080/realms/htc/protocol/openid-connect/auth\"  # Replace with your actual URL\n",
    "params = {\n",
    "    \"response_type\": \"code\",\n",
    "    \"client_id\": client_id,\n",
    "    \"state\": state,\n",
    "    \"scope\": \"openid\",\n",
    "    \"redirect_uri\": redirect_uri,\n",
    "    \"code_challenge\": code_challenge,\n",
    "    \"code_challenge_method\": \"S256\",\n",
    "    \"response_mode\": \"fragment\",\n",
    "}\n",
    "\n",
    "response = session.get(url, params=params)\n",
    "\n",
    "# Parse the HTML content\n",
    "soup = BeautifulSoup(response.text, 'html.parser')\n",
    "\n",
    "# Extract the form's action attribute\n",
    "form_action_url = soup.find('form', {'id': 'kc-form-login'})['action']\n",
    "\n",
    "# Parse the URL to extract query parameters\n",
    "parsed_url = urlparse(form_action_url)\n",
    "query_params = parse_qs(parsed_url.query)\n",
    "\n",
    "# Extract specific values\n",
    "session_code = query_params.get('session_code', [None])[0]\n",
    "execution = query_params.get('execution', [None])[0]\n",
    "client_id = query_params.get('client_id', [None])[0]\n",
    "tab_id = query_params.get('tab_id', [None])[0]\n",
    "client_data = query_params.get('client_data', [None])[0]\n",
    "\n",
    "# Print extracted values\n",
    "print(\"session_code:\", session_code)\n",
    "print(\"execution:\", execution)\n",
    "print(\"client_id:\", client_id)\n",
    "print(\"tab_id:\", tab_id)\n",
    "print(\"client_data:\", client_data)\n",
    "\n",
    "# The cookies should be handled by the session object\n",
    "cookies = session.cookies.get_dict()\n",
    "print(\"Cookies:\", cookies)\n",
    "\n",
    "# Now, use the extracted values to simulate form submission\n",
    "login_url = \"http://localhost:8080/realms/htc/login-actions/authenticate\"\n",
    "login_data = {\n",
    "    \"session_code\": session_code,\n",
    "    \"execution\": execution,\n",
    "    \"client_id\": client_id,\n",
    "    \"tab_id\": tab_id,\n",
    "    \"client_data\": client_data,\n",
    "    \"username\": username,\n",
    "    \"password\": password\n",
    "}\n",
    "\n",
    "response = session.post(login_url, data=login_data)\n",
    "\n",
    "# Check if login was successful\n",
    "if response.ok:\n",
    "    print(\"Login successful!\")\n",
    "else:\n",
    "    print(\"Login failed!\")\n",
    "    print(\"Response Text:\", response.text)\n"
   ]
  }
 ],
 "metadata": {
  "kernelspec": {
   "display_name": "Python 3",
   "language": "python",
   "name": "python3"
  },
  "language_info": {
   "codemirror_mode": {
    "name": "ipython",
    "version": 3
   },
   "file_extension": ".py",
   "mimetype": "text/x-python",
   "name": "python",
   "nbconvert_exporter": "python",
   "pygments_lexer": "ipython3",
   "version": "3.12.5"
  }
 },
 "nbformat": 4,
 "nbformat_minor": 2
}
